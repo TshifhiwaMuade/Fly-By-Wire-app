{
 "cells": [
  {
   "cell_type": "markdown",
   "id": "6eb41ed1",
   "metadata": {},
   "source": [
    "Installs pygame for the local system if it has not already installed it"
   ]
  },
  {
   "cell_type": "code",
   "execution_count": null,
   "id": "75fa4453",
   "metadata": {},
   "outputs": [],
   "source": [
    "!pip install pygame"
   ]
  }
 ],
 "metadata": {
  "language_info": {
   "name": "python"
  }
 },
 "nbformat": 4,
 "nbformat_minor": 5
}
